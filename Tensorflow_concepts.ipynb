{
 "cells": [
  {
   "cell_type": "code",
   "execution_count": 1,
   "metadata": {},
   "outputs": [],
   "source": [
    "import tensorflow as tf\n",
    "import mitdeeplearning  as mdl\n",
    "import numpy as np\n",
    "import matplotlib.pyplot as plt\n",
    "import pandas as pd"
   ]
  },
  {
   "cell_type": "markdown",
   "metadata": {},
   "source": [
    "0-D tensors"
   ]
  },
  {
   "cell_type": "code",
   "execution_count": 2,
   "metadata": {},
   "outputs": [],
   "source": [
    "sport = tf.constant(\"Football\", tf.string)\n",
    "number = tf.constant(3.142,tf.float32)"
   ]
  },
  {
   "cell_type": "markdown",
   "metadata": {},
   "source": [
    "1-D Tensors"
   ]
  },
  {
   "cell_type": "code",
   "execution_count": 3,
   "metadata": {},
   "outputs": [],
   "source": [
    "sport = tf.constant([\"Cricket\", \"Football\"], tf.string)\n",
    "number = tf.constant([3.142, 1.414], tf.float32)"
   ]
  },
  {
   "cell_type": "markdown",
   "metadata": {},
   "source": [
    "2-D Tensors"
   ]
  },
  {
   "cell_type": "code",
   "execution_count": 4,
   "metadata": {},
   "outputs": [],
   "source": [
    "matrix = tf.constant([[2.0,3.0,4.0,.0], [4.0,8.0,1.0,2.0]])\n",
    "\n",
    "assert isinstance(matrix, tf.Tensor)\n",
    "assert tf.rank(matrix).numpy() == 2 "
   ]
  },
  {
   "cell_type": "code",
   "execution_count": 5,
   "metadata": {},
   "outputs": [],
   "source": [
    "images = tf.zeros([10,256,256,3])\n",
    "\n",
    "assert isinstance(images, tf.Tensor), 'Only tensors are allowed'\n",
    "assert tf.rank(images).numpy()==4,'Only 4D tensors are allowed'\n",
    "assert tf.shape(images).numpy().tolist() ==[10,256,256,3], 'Only RGB images with 256*256 shape are allowed '"
   ]
  },
  {
   "cell_type": "code",
   "execution_count": 6,
   "metadata": {},
   "outputs": [
    {
     "name": "stdout",
     "output_type": "stream",
     "text": [
      "row_vector:[4. 1.]\n",
      "column_vector:[4. 1.]\n",
      "scalar:2.0\n"
     ]
    }
   ],
   "source": [
    "row_vector = matrix[0]\n",
    "column_vector = matrix[:,2]\n",
    "scalar = matrix[1,3]\n",
    "\n",
    "print('row_vector:{}'.format(column_vector.numpy()))\n",
    "print('column_vector:{}'.format(column_vector.numpy()))\n",
    "print('scalar:{}'.format(scalar.numpy()))"
   ]
  },
  {
   "cell_type": "markdown",
   "metadata": {},
   "source": [
    "Computations on Tensors"
   ]
  },
  {
   "cell_type": "code",
   "execution_count": 7,
   "metadata": {},
   "outputs": [
    {
     "name": "stdout",
     "output_type": "stream",
     "text": [
      "tf.Tensor(37, shape=(), dtype=int32)\n",
      "tf.Tensor(37, shape=(), dtype=int32)\n"
     ]
    }
   ],
   "source": [
    "a = tf.constant(15)\n",
    "b = tf.constant(22)\n",
    "\n",
    "c1 = tf.add(b,a)\n",
    "c2 = a+b\n",
    "\n",
    "print(c1)\n",
    "print(c2)"
   ]
  },
  {
   "cell_type": "code",
   "execution_count": 8,
   "metadata": {},
   "outputs": [],
   "source": [
    "def func(a,b):\n",
    "\n",
    "    c = tf.add(a,b)\n",
    "    d = tf.subtract(b,1)\n",
    "    e = tf.multiply(c,d)\n",
    "    \n",
    "    return e"
   ]
  },
  {
   "cell_type": "code",
   "execution_count": 9,
   "metadata": {},
   "outputs": [
    {
     "name": "stdout",
     "output_type": "stream",
     "text": [
      "tf.Tensor(6.0, shape=(), dtype=float32)\n"
     ]
    }
   ],
   "source": [
    "a , b =1.5,2.5\n",
    "\n",
    "eout = func(a,b)\n",
    "print(eout)"
   ]
  },
  {
   "cell_type": "code",
   "execution_count": 10,
   "metadata": {},
   "outputs": [
    {
     "name": "stdout",
     "output_type": "stream",
     "text": [
      "[PASS] test_custom_dense_layer_output\n"
     ]
    },
    {
     "data": {
      "text/plain": [
       "True"
      ]
     },
     "execution_count": 10,
     "metadata": {},
     "output_type": "execute_result"
    }
   ],
   "source": [
    "#Defining a network layer \n",
    "\n",
    "class OurDenseLayer(tf.keras.layers.Layer):\n",
    "    def __init__(self, n_output_nodes):\n",
    "        super(OurDenseLayer, self).__init__()\n",
    "        self.n_output_nodes= n_output_nodes\n",
    "        \n",
    "    def build(self, input_shape):\n",
    "        d = int(input_shape[-1])\n",
    "        self.W = self.add_weight(\"weight\", shape = [d, self.n_output_nodes])\n",
    "        self.b = self.add_weight(\"bias\", shape=[1, self.n_output_nodes])\n",
    "        \n",
    "    def call(self, x):\n",
    "        z = tf.matmul(x, self.W) + self.b\n",
    "        \n",
    "        y = tf.sigmoid(z)\n",
    "        return y\n",
    "\n",
    "    \n",
    "tf.random.set_seed(1)\n",
    "layer = OurDenseLayer(3)\n",
    "layer.build((1,2))\n",
    "x_input = tf.constant([[1,2.]],shape=(1,2))\n",
    "y = layer.call(x_input)\n",
    "mdl.lab1.test_custom_dense_layer_output(y)\n",
    "        "
   ]
  },
  {
   "cell_type": "code",
   "execution_count": 13,
   "metadata": {},
   "outputs": [],
   "source": [
    "from tensorflow.keras import Sequential \n",
    "from tensorflow.keras.layers import Dense\n",
    "\n",
    "n_output_nodes = 3 \n",
    "\n",
    "model = Sequential()\n",
    "dense_layer = Dense(n_output_nodes, activation = 'sigmoid')\n",
    "\n",
    "model.add(dense_layer)"
   ]
  },
  {
   "cell_type": "code",
   "execution_count": 14,
   "metadata": {},
   "outputs": [
    {
     "name": "stdout",
     "output_type": "stream",
     "text": [
      "[[0.5607363  0.65668976 0.12496966]]\n"
     ]
    }
   ],
   "source": [
    "x_input = tf.constant([[1,2.]], shape = (1,2))\n",
    "\n",
    "model_output = model(x_input).numpy()\n",
    "print(model_output)"
   ]
  },
  {
   "cell_type": "code",
   "execution_count": 15,
   "metadata": {},
   "outputs": [],
   "source": [
    "from tensorflow.keras import Model \n",
    "from tensorflow.keras.layers import Dense\n",
    "\n",
    "\n",
    "class SubclassModel(tf.keras.Model):\n",
    "    \n",
    "    def __init__ (self, n_output_nodes):\n",
    "        super(SubclassModel, self).__init__()\n",
    "        self.dense_layer= tf.keras.layers.Dense(n_output_nodes, activation='sigmoid')\n",
    "        \n",
    "    def call(self, inputs):\n",
    "        return self.dense_layer(inputs)"
   ]
  },
  {
   "cell_type": "code",
   "execution_count": 18,
   "metadata": {},
   "outputs": [
    {
     "name": "stdout",
     "output_type": "stream",
     "text": [
      "tf.Tensor([[0.1969584 0.6330007 0.7668015]], shape=(1, 3), dtype=float32)\n"
     ]
    }
   ],
   "source": [
    "n_output_nodes = 3 \n",
    "model = SubclassModel(n_output_nodes)\n",
    "\n",
    "x_input = tf.constant([[1,2.]], shape=(1,2))\n",
    "\n",
    "print(model.call(x_input))"
   ]
  },
  {
   "cell_type": "code",
   "execution_count": 27,
   "metadata": {},
   "outputs": [],
   "source": [
    "from tensorflow.keras import Model\n",
    "from tensorflow.keras.layers import Dense\n",
    "\n",
    "\n",
    "class  IdentityModel(tf.keras.Model):\n",
    "    \n",
    "    \n",
    "    def __init__ (self,n_output_nodes,isidentity=False):\n",
    "        super(IdentityModel, self).__init__()\n",
    "        self.dense_layer = tf.keras.layers.Dense(n_output_nodes, activation='sigmoid')\n",
    "        \n",
    "    def call(self, inputs, isidentity=False):\n",
    "        x = self.dense_layer(inputs)\n",
    "        if isidentity:\n",
    "            return inputs\n",
    "        return x"
   ]
  },
  {
   "cell_type": "code",
   "execution_count": 28,
   "metadata": {},
   "outputs": [
    {
     "name": "stdout",
     "output_type": "stream",
     "text": [
      "Network output with activation:[[0.33609697 0.8295239  0.73255074]], network identity output:[[1. 2.]]\n"
     ]
    }
   ],
   "source": [
    "n_output_nodes = 3 \n",
    "model = IdentityModel(n_output_nodes)\n",
    "\n",
    "x_input - tf.constant([[1,2.]], shape=(1,2))\n",
    "\n",
    "out_activate = model.call(x_input)\n",
    "\n",
    "out_identity = model.call(x_input, isidentity = True)\n",
    "\n",
    "print(\"Network output with activation:{}, network identity output:{}\".format(out_activate.numpy(), out_identity.numpy()))"
   ]
  },
  {
   "cell_type": "code",
   "execution_count": null,
   "metadata": {},
   "outputs": [],
   "source": []
  }
 ],
 "metadata": {
  "kernelspec": {
   "display_name": "Python 3",
   "language": "python",
   "name": "python3"
  },
  "language_info": {
   "codemirror_mode": {
    "name": "ipython",
    "version": 3
   },
   "file_extension": ".py",
   "mimetype": "text/x-python",
   "name": "python",
   "nbconvert_exporter": "python",
   "pygments_lexer": "ipython3",
   "version": "3.8.0"
  }
 },
 "nbformat": 4,
 "nbformat_minor": 4
}
